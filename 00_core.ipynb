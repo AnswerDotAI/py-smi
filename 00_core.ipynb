{
 "cells": [
  {
   "cell_type": "code",
   "execution_count": null,
   "id": "47d66b5d",
   "metadata": {},
   "outputs": [],
   "source": [
    "#| default_exp core"
   ]
  },
  {
   "cell_type": "markdown",
   "id": "247dfd62",
   "metadata": {},
   "source": [
    "# API"
   ]
  },
  {
   "cell_type": "code",
   "execution_count": 2,
   "id": "2c69d9d0",
   "metadata": {},
   "outputs": [],
   "source": [
    "#| export\n",
    "from fastcore.utils import *\n",
    "from pynvml import *\n",
    "from psutil import Process\n",
    "from dataclasses import dataclass"
   ]
  },
  {
   "cell_type": "code",
   "execution_count": 3,
   "id": "c79f3f6c",
   "metadata": {},
   "outputs": [],
   "source": [
    "#| export\n",
    "class NVML:\n",
    "    \"Convenient access to `pynvml` (the library behind `nvidia-smi`)\"\n",
    "    def __init__(self):\n",
    "        nvmlInit()\n",
    "        self.driver_version = nvmlSystemGetDriverVersion()\n",
    "        cv = nvmlSystemGetCudaDriverVersion()\n",
    "        self.cuda_version = f\"{cv // 1000}.{(cv % 1000) // 10}\"\n",
    "\n",
    "    def __getitem__(self, i): return nvmlDeviceGetHandleByIndex(i)\n",
    "    def __del__(self): nvmlShutdown()"
   ]
  },
  {
   "cell_type": "code",
   "execution_count": 4,
   "id": "ecf897aa",
   "metadata": {},
   "outputs": [
    {
     "data": {
      "text/plain": [
       "('535.183.06', '12.2')"
      ]
     },
     "execution_count": 4,
     "metadata": {},
     "output_type": "execute_result"
    }
   ],
   "source": [
    "nv = NVML()\n",
    "nv.driver_version, nv.cuda_version"
   ]
  },
  {
   "cell_type": "code",
   "execution_count": 5,
   "id": "abaaa19f",
   "metadata": {},
   "outputs": [
    {
     "data": {
      "text/plain": [
       "'NVIDIA RTX A6000'"
      ]
     },
     "execution_count": 5,
     "metadata": {},
     "output_type": "execute_result"
    }
   ],
   "source": [
    "handle = nv[0]\n",
    "nvmlDeviceGetName(handle)"
   ]
  },
  {
   "cell_type": "code",
   "execution_count": 6,
   "id": "b915c47c",
   "metadata": {},
   "outputs": [],
   "source": [
    "#| export\n",
    "@dataclass\n",
    "class _Info:\n",
    "    name:bytes; serial:str; uuid:bytes; persistence_mode:int; bus_id:bytes; display_active:int\n",
    "    performance_state:int; fan_speed:int; temperature:int; compute_mode:int"
   ]
  },
  {
   "cell_type": "code",
   "execution_count": 6,
   "id": "ca021107",
   "metadata": {},
   "outputs": [],
   "source": [
    "#| export\n",
    "@patch\n",
    "def info(self:NVML, i:int=0) -> _Info:\n",
    "    \"Basic information about GPU `i`\"\n",
    "    h = self[i]\n",
    "    return _Info(\n",
    "        name=nvmlDeviceGetName(h),\n",
    "        serial=nvmlDeviceGetSerial(h),\n",
    "        uuid=nvmlDeviceGetUUID(h),\n",
    "        persistence_mode=nvmlDeviceGetPersistenceMode(h),\n",
    "        bus_id=nvmlDeviceGetPciInfo(h).busId,\n",
    "        display_active=nvmlDeviceGetDisplayActive(h),\n",
    "        performance_state=nvmlDeviceGetPerformanceState(h),\n",
    "        fan_speed=nvmlDeviceGetFanSpeed(self[i]),\n",
    "        temperature=nvmlDeviceGetTemperature(self[i], NVML_TEMPERATURE_GPU),\n",
    "        compute_mode=nvmlDeviceGetComputeMode(h))"
   ]
  },
  {
   "cell_type": "code",
   "execution_count": 7,
   "id": "c6c9ba90",
   "metadata": {},
   "outputs": [
    {
     "data": {
      "text/plain": [
       "_Info(name='NVIDIA RTX A6000', serial='1322123048138', uuid='GPU-61e56e6f-2a64-c0f4-b26c-ab3ead0eed5b', persistence_mode=1, bus_id='00000000:01:00.0', display_active=0, performance_state=8, fan_speed=30, temperature=31, compute_mode=0)"
      ]
     },
     "execution_count": 7,
     "metadata": {},
     "output_type": "execute_result"
    }
   ],
   "source": [
    "nv.info(0)"
   ]
  },
  {
   "cell_type": "code",
   "execution_count": 8,
   "id": "3b461021",
   "metadata": {},
   "outputs": [],
   "source": [
    "#| export\n",
    "@dataclass\n",
    "class _Memory: free: float; total: float; used: float"
   ]
  },
  {
   "cell_type": "code",
   "execution_count": 9,
   "id": "f840d3e1",
   "metadata": {},
   "outputs": [],
   "source": [
    "#| export\n",
    "@patch\n",
    "def mem(self:NVML, i:int=0)->_Memory:\n",
    "    \"Memory total/free/used for GPU `i`, in MB\"\n",
    "    res = nvmlDeviceGetMemoryInfo(self[i])\n",
    "    return _Memory(*(getattr(res, fld) / 1024**2 for fld in ('free', 'total', 'used')))"
   ]
  },
  {
   "cell_type": "code",
   "execution_count": 10,
   "id": "44c2c781",
   "metadata": {},
   "outputs": [
    {
     "data": {
      "text/plain": [
       "_Memory(free=2193.25, total=49140.0, used=46946.75)"
      ]
     },
     "execution_count": 10,
     "metadata": {},
     "output_type": "execute_result"
    }
   ],
   "source": [
    "nv.mem(0)"
   ]
  },
  {
   "cell_type": "code",
   "execution_count": 11,
   "id": "3a05f382",
   "metadata": {},
   "outputs": [],
   "source": [
    "#| export\n",
    "@dataclass\n",
    "class _Utilization: gpu: int; memory: int; enc: int; dec: int"
   ]
  },
  {
   "cell_type": "code",
   "execution_count": 12,
   "id": "5e606982",
   "metadata": {},
   "outputs": [],
   "source": [
    "#| export\n",
    "@patch\n",
    "def utilization(self:NVML, i:int=0) -> _Utilization:\n",
    "    \"% of time during which GPU `i` was actively using various components\"\n",
    "    h = self[i]\n",
    "    u = nvmlDeviceGetUtilizationRates(h)\n",
    "    enc, _ = nvmlDeviceGetEncoderUtilization(h)\n",
    "    dec, _ = nvmlDeviceGetDecoderUtilization(h)\n",
    "    return _Utilization(u.gpu, u.memory, enc, dec)"
   ]
  },
  {
   "cell_type": "code",
   "execution_count": 13,
   "id": "3110228f",
   "metadata": {},
   "outputs": [
    {
     "data": {
      "text/plain": [
       "_Utilization(gpu=0, memory=0, enc=0, dec=0)"
      ]
     },
     "execution_count": 13,
     "metadata": {},
     "output_type": "execute_result"
    }
   ],
   "source": [
    "nv.utilization(0)"
   ]
  },
  {
   "cell_type": "code",
   "execution_count": 14,
   "id": "f54194cd",
   "metadata": {},
   "outputs": [],
   "source": [
    "#| export\n",
    "@dataclass\n",
    "class _Power: usage: float; limit: float"
   ]
  },
  {
   "cell_type": "code",
   "execution_count": 15,
   "id": "f8db5600",
   "metadata": {},
   "outputs": [],
   "source": [
    "#| export\n",
    "@patch\n",
    "def power(self:NVML, i:int=0) -> _Power:\n",
    "    \"Get power usage and limit for GPU `i` in watts\"\n",
    "    return _Power(\n",
    "        usage=nvmlDeviceGetPowerUsage(self[i]) / 1000,\n",
    "        limit=nvmlDeviceGetPowerManagementLimit(self[i]) / 1000)"
   ]
  },
  {
   "cell_type": "code",
   "execution_count": 16,
   "id": "dc328f82",
   "metadata": {},
   "outputs": [
    {
     "data": {
      "text/plain": [
       "_Power(usage=16.866, limit=300.0)"
      ]
     },
     "execution_count": 16,
     "metadata": {},
     "output_type": "execute_result"
    }
   ],
   "source": [
    "nv.power(0)"
   ]
  },
  {
   "cell_type": "markdown",
   "id": "4af6c54f",
   "metadata": {},
   "source": [
    "Here \"limit\" refers to the maximum power draw allowed for the GPU."
   ]
  },
  {
   "cell_type": "code",
   "execution_count": 17,
   "id": "857796c3",
   "metadata": {},
   "outputs": [],
   "source": [
    "#| export\n",
    "@dataclass\n",
    "class _Clocks: graphics: int; sm: int; mem: int"
   ]
  },
  {
   "cell_type": "code",
   "execution_count": 18,
   "id": "190e2fd3",
   "metadata": {},
   "outputs": [],
   "source": [
    "#| export\n",
    "@patch\n",
    "def clocks(self:NVML, i:int=0) -> _Clocks:\n",
    "    \"Get current clock speeds (in MHz) for GPU `i`\"\n",
    "    h = self[i]\n",
    "    return _Clocks(\n",
    "        graphics=nvmlDeviceGetClockInfo(h, NVML_CLOCK_GRAPHICS),\n",
    "        sm=nvmlDeviceGetClockInfo(h, NVML_CLOCK_SM),\n",
    "        mem=nvmlDeviceGetClockInfo(h, NVML_CLOCK_MEM))"
   ]
  },
  {
   "cell_type": "code",
   "execution_count": 19,
   "id": "84232fcb",
   "metadata": {},
   "outputs": [
    {
     "data": {
      "text/plain": [
       "_Clocks(graphics=0, sm=0, mem=405)"
      ]
     },
     "execution_count": 19,
     "metadata": {},
     "output_type": "execute_result"
    }
   ],
   "source": [
    "nv.clocks(0)"
   ]
  },
  {
   "cell_type": "code",
   "execution_count": 20,
   "id": "8653e917",
   "metadata": {},
   "outputs": [],
   "source": [
    "#| export\n",
    "@dataclass\n",
    "class _PCIeThroughput: rx: float; tx: float"
   ]
  },
  {
   "cell_type": "code",
   "execution_count": 21,
   "id": "b094dcd8",
   "metadata": {},
   "outputs": [],
   "source": [
    "#| export\n",
    "@patch\n",
    "def pcie_throughput(self:NVML, i:int=0) -> _PCIeThroughput:\n",
    "    \"Get PCIe throughput (in KB/s) for GPU `i`\"\n",
    "    h = self[i]\n",
    "    return _PCIeThroughput(\n",
    "        rx=nvmlDeviceGetPcieThroughput(h, NVML_PCIE_UTIL_RX_BYTES) / 1024,\n",
    "        tx=nvmlDeviceGetPcieThroughput(h, NVML_PCIE_UTIL_TX_BYTES) / 1024)"
   ]
  },
  {
   "cell_type": "code",
   "execution_count": 22,
   "id": "1730a810",
   "metadata": {},
   "outputs": [
    {
     "data": {
      "text/plain": [
       "_PCIeThroughput(rx=0.0, tx=0.0)"
      ]
     },
     "execution_count": 22,
     "metadata": {},
     "output_type": "execute_result"
    }
   ],
   "source": [
    "nv.pcie_throughput(0)"
   ]
  },
  {
   "cell_type": "markdown",
   "id": "9f878893",
   "metadata": {},
   "source": [
    "1. \"rx\" represents receive - data flowing from the motherboard to the GPU.\n",
    "2. \"tx\" represents transmit - data flowing from the GPU to the motherboard."
   ]
  },
  {
   "cell_type": "code",
   "execution_count": 23,
   "id": "088f2e8a",
   "metadata": {},
   "outputs": [],
   "source": [
    "#| export\n",
    "def _procinfo(p): return {'pid': p.pid, 'name': Process(p.pid).exe(), 'memory': p.usedGpuMemory / 1024**2}"
   ]
  },
  {
   "cell_type": "code",
   "execution_count": 24,
   "id": "573f4be7",
   "metadata": {},
   "outputs": [],
   "source": [
    "#| export\n",
    "@dataclass\n",
    "class _ProcessInfo: pid: int; name: str; memory: float"
   ]
  },
  {
   "cell_type": "code",
   "execution_count": 25,
   "id": "ddfdadd6",
   "metadata": {},
   "outputs": [],
   "source": [
    "#| export\n",
    "@patch\n",
    "def processes(self:NVML, i:int=0) -> List[_ProcessInfo]:\n",
    "    \"Get information about processes running on GPU `i`\"\n",
    "    h = self[i]\n",
    "    procs = nvmlDeviceGetComputeRunningProcesses(h)\n",
    "    return [_ProcessInfo(p.pid, Process(p.pid).exe(), p.usedGpuMemory / 1024**2) for p in procs]"
   ]
  },
  {
   "cell_type": "code",
   "execution_count": 26,
   "id": "3ef9d67f",
   "metadata": {},
   "outputs": [
    {
     "data": {
      "text/plain": [
       "[_ProcessInfo(pid=201084, name='/home/jhoward/miniconda3/bin/python3.12', memory=46476.0)]"
      ]
     },
     "execution_count": 26,
     "metadata": {},
     "output_type": "execute_result"
    }
   ],
   "source": [
    "nv.processes(0)"
   ]
  },
  {
   "cell_type": "code",
   "execution_count": 27,
   "id": "138532dd",
   "metadata": {},
   "outputs": [],
   "source": [
    "#| export\n",
    "@dataclass\n",
    "class _DMon: pwr:float; gtemp:int; sm:int; mem:int; enc:int; dec:int; mclk:int; pclk:int"
   ]
  },
  {
   "cell_type": "code",
   "execution_count": 28,
   "id": "927f7978",
   "metadata": {},
   "outputs": [],
   "source": [
    "#| export\n",
    "@patch\n",
    "def dmon(self:NVML, i:int=0) -> _DMon:\n",
    "    \"Get key monitoring metrics for GPU `i`, similar to `nvidia-smi dmon`\"\n",
    "    power = self.power(i)\n",
    "    util = self.utilization(i)\n",
    "    clocks = self.clocks(i)\n",
    "\n",
    "    return _DMon(pwr=power.usage, gtemp=self.info(i).temperature, sm=util.gpu, mem=util.memory,\n",
    "        enc=util.enc, dec=util.dec, mclk=clocks.mem, pclk=clocks.graphics)"
   ]
  },
  {
   "cell_type": "code",
   "execution_count": 29,
   "id": "3dd4a014",
   "metadata": {},
   "outputs": [
    {
     "data": {
      "text/plain": [
       "_DMon(pwr=16.866, gtemp=31, sm=0, mem=0, enc=0, dec=0, mclk=405, pclk=0)"
      ]
     },
     "execution_count": 29,
     "metadata": {},
     "output_type": "execute_result"
    }
   ],
   "source": [
    "nv.dmon(0)"
   ]
  },
  {
   "cell_type": "markdown",
   "id": "474e14b4",
   "metadata": {},
   "source": [
    "# Export -"
   ]
  },
  {
   "cell_type": "code",
   "execution_count": 2,
   "id": "d211e8e2",
   "metadata": {},
   "outputs": [],
   "source": [
    "#|hide\n",
    "import nbdev; nbdev.nbdev_export()"
   ]
  },
  {
   "cell_type": "code",
   "execution_count": null,
   "id": "3147ff47",
   "metadata": {},
   "outputs": [],
   "source": []
  }
 ],
 "metadata": {
  "kernelspec": {
   "display_name": "Python 3 (ipykernel)",
   "language": "python",
   "name": "python3"
  },
  "language_info": {
   "codemirror_mode": {
    "name": "ipython",
    "version": 3
   },
   "file_extension": ".py",
   "mimetype": "text/x-python",
   "name": "python",
   "nbconvert_exporter": "python",
   "pygments_lexer": "ipython3",
   "version": "3.12.4"
  }
 },
 "nbformat": 4,
 "nbformat_minor": 5
}
